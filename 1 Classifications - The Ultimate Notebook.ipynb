{
 "cells": [
  {
   "cell_type": "markdown",
   "metadata": {},
   "source": [
    "# Classifications : The Ultimate Notebook"
   ]
  },
  {
   "cell_type": "markdown",
   "metadata": {},
   "source": [
    "### Imports"
   ]
  },
  {
   "cell_type": "code",
   "execution_count": 66,
   "metadata": {},
   "outputs": [],
   "source": [
    "from sklearn.model_selection import train_test_split\n",
    "from sklearn.preprocessing import RobustScaler\n",
    "from sklearn.metrics import matthews_corrcoef\n",
    "from sklearn.metrics import confusion_matrix\n",
    "from sklearn.metrics import accuracy_score\n",
    "from sklearn.metrics import recall_score\n",
    "from sklearn.metrics import classification_report\n",
    "from sklearn.metrics import roc_auc_score\n",
    "from sklearn.metrics import cohen_kappa_score\n",
    "from sklearn.metrics import plot_confusion_matrix\n",
    "import matplotlib.pyplot as plt  \n",
    "from sklearn import metrics\n",
    "import autosklearn.classification\n",
    "\n",
    "import pandas as pd\n",
    "import numpy as np\n",
    "import warnings\n",
    "warnings.filterwarnings('ignore')"
   ]
  },
  {
   "cell_type": "markdown",
   "metadata": {},
   "source": [
    "### The Dataset"
   ]
  },
  {
   "cell_type": "code",
   "execution_count": 30,
   "metadata": {},
   "outputs": [],
   "source": [
    "df = pd.read_csv(\"multiclass.csv\", low_memory=True, sep=\",\")"
   ]
  },
  {
   "cell_type": "code",
   "execution_count": 33,
   "metadata": {},
   "outputs": [],
   "source": [
    "#display(df)"
   ]
  },
  {
   "cell_type": "markdown",
   "metadata": {},
   "source": [
    "## 1) autosklearn Classification"
   ]
  },
  {
   "cell_type": "code",
   "execution_count": 68,
   "metadata": {},
   "outputs": [
    {
     "name": "stdout",
     "output_type": "stream",
     "text": [
      "[(1.000000, SimpleClassificationPipeline({'balancing:strategy': 'none', 'classifier:__choice__': 'random_forest', 'data_preprocessing:categorical_transformer:categorical_encoding:__choice__': 'one_hot_encoding', 'data_preprocessing:categorical_transformer:category_coalescence:__choice__': 'minority_coalescer', 'data_preprocessing:numerical_transformer:imputation:strategy': 'mean', 'data_preprocessing:numerical_transformer:rescaling:__choice__': 'standardize', 'feature_preprocessor:__choice__': 'no_preprocessing', 'classifier:random_forest:bootstrap': 'True', 'classifier:random_forest:criterion': 'gini', 'classifier:random_forest:max_depth': 'None', 'classifier:random_forest:max_features': 0.5, 'classifier:random_forest:max_leaf_nodes': 'None', 'classifier:random_forest:min_impurity_decrease': 0.0, 'classifier:random_forest:min_samples_leaf': 1, 'classifier:random_forest:min_samples_split': 2, 'classifier:random_forest:min_weight_fraction_leaf': 0.0, 'data_preprocessing:categorical_transformer:category_coalescence:minority_coalescer:minimum_fraction': 0.01},\n",
      "dataset_properties={\n",
      "  'task': 2,\n",
      "  'sparse': False,\n",
      "  'multilabel': False,\n",
      "  'multiclass': True,\n",
      "  'target_type': 'classification',\n",
      "  'signed': False})),\n",
      "]\n",
      "------------------------------------------------------\n",
      "Accuracy: 0.9294670846394985\n",
      "------------------------------------------------------\n",
      "              precision    recall  f1-score   support\n",
      "\n",
      "         1.0       0.94      0.99      0.96       497\n",
      "         2.0       0.81      0.64      0.71        88\n",
      "         3.0       0.98      0.89      0.93        53\n",
      "\n",
      "    accuracy                           0.93       638\n",
      "   macro avg       0.91      0.84      0.87       638\n",
      "weighted avg       0.93      0.93      0.93       638\n",
      "\n",
      "------------------------------------------------------\n",
      "MCC: 0.7991992397681866\n",
      "------------------------------------------------------\n",
      "Kappa: 0.794180269694819\n",
      "------------------------------------------------------\n",
      "auto-sklearn results:\n",
      "  Dataset name: 9279ed78-a8f7-11eb-86db-faffc20d003d\n",
      "  Metric: accuracy\n",
      "  Best validation score: 0.930894\n",
      "  Number of target algorithm runs: 7\n",
      "  Number of successful target algorithm runs: 4\n",
      "  Number of crashed target algorithm runs: 0\n",
      "  Number of target algorithms that exceeded the time limit: 3\n",
      "  Number of target algorithms that exceeded the memory limit: 0\n",
      "\n"
     ]
    },
    {
     "data": {
      "image/png": "[encoded data removed]",
      "text/plain": [
       "<Figure size 432x288 with 2 Axes>"
      ]
     },
     "metadata": {
      "needs_background": "light"
     },
     "output_type": "display_data"
    }
   ],
   "source": [
    "y = df['fetal_health']\n",
    "X = df.drop(\"fetal_health\", axis=1)\n",
    "scaler = RobustScaler()\n",
    "X = scaler.fit_transform(X)\n",
    "\n",
    "X_train, X_test, y_train, y_test = train_test_split(X, y, test_size=0.30, stratify=y, random_state=1)\n",
    "\n",
    "automl = autosklearn.classification.AutoSklearnClassifier(time_left_for_this_task = 3600, ensemble_size=1)\n",
    "automl.fit(X_train, y_train)\n",
    "y_pred = automl.predict(X_test)\n",
    "\n",
    "print(automl.show_models())\n",
    "print(\"------------------------------------------------------\")\n",
    "print(\"Accuracy:\",accuracy_score(y_test, y_pred))\n",
    "print(\"------------------------------------------------------\")\n",
    "print(classification_report(y_test, y_pred))\n",
    "print(\"------------------------------------------------------\")\n",
    "print(\"MCC:\",matthews_corrcoef(y_test, y_pred))\n",
    "print(\"------------------------------------------------------\")\n",
    "print(\"Kappa:\",cohen_kappa_score(y_test, y_pred))\n",
    "print(\"------------------------------------------------------\")\n",
    "plot_confusion_matrix(model, X_test, y_test)\n",
    "print(automl.sprint_statistics())"
   ]
  },
  {
   "cell_type": "markdown",
   "metadata": {},
   "source": [
    "## 2) Logistic Regression"
   ]
  },
  {
   "cell_type": "code",
   "execution_count": 65,
   "metadata": {},
   "outputs": [
    {
     "name": "stdout",
     "output_type": "stream",
     "text": [
      "Accuracy: 0.9122257053291536\n",
      "------------------------------------------------------\n",
      "              precision    recall  f1-score   support\n",
      "\n",
      "         1.0       0.94      0.96      0.95       497\n",
      "         2.0       0.73      0.68      0.71        88\n",
      "         3.0       0.88      0.81      0.84        53\n",
      "\n",
      "    accuracy                           0.91       638\n",
      "   macro avg       0.85      0.82      0.83       638\n",
      "weighted avg       0.91      0.91      0.91       638\n",
      "\n",
      "------------------------------------------------------\n",
      "MCC: 0.7547542884713115\n",
      "------------------------------------------------------\n",
      "Kappa: 0.7540274832704541\n",
      "------------------------------------------------------\n"
     ]
    },
    {
     "data": {
      "text/plain": [
       "<sklearn.metrics._plot.confusion_matrix.ConfusionMatrixDisplay at 0x7f8e3dad0310>"
      ]
     },
     "execution_count": 65,
     "metadata": {},
     "output_type": "execute_result"
    },
    {
     "data": {
      "image/png": "[encoded data removed]",
      "text/plain": [
       "<Figure size 432x288 with 2 Axes>"
      ]
     },
     "metadata": {
      "needs_background": "light"
     },
     "output_type": "display_data"
    }
   ],
   "source": [
    "from sklearn.linear_model import LogisticRegression\n",
    "\n",
    "y = df['fetal_health']\n",
    "X = df.drop(\"fetal_health\", axis=1)\n",
    "scaler = RobustScaler()\n",
    "X = scaler.fit_transform(X)\n",
    "\n",
    "X_train, X_test, y_train, y_test = train_test_split(X, y, test_size=0.30, stratify=y, random_state=1)\n",
    "\n",
    "model = LogisticRegression()\n",
    "model.fit(X_train, y_train)\n",
    "y_pred = model.predict(X_test)\n",
    "\n",
    "print(\"Accuracy:\",accuracy_score(y_test, y_pred))\n",
    "print(\"------------------------------------------------------\")\n",
    "print(classification_report(y_test, y_pred))\n",
    "print(\"------------------------------------------------------\")\n",
    "print(\"MCC:\",matthews_corrcoef(y_test, y_pred))\n",
    "print(\"------------------------------------------------------\")\n",
    "print(\"Kappa:\",cohen_kappa_score(y_test, y_pred))\n",
    "print(\"------------------------------------------------------\")\n",
    "plot_confusion_matrix(model, X_test, y_test)"
   ]
  },
  {
   "cell_type": "markdown",
   "metadata": {},
   "source": [
    "## 3) k-NN (k-Nearest Neighbors)"
   ]
  },
  {
   "cell_type": "code",
   "execution_count": 64,
   "metadata": {
    "scrolled": true
   },
   "outputs": [
    {
     "name": "stdout",
     "output_type": "stream",
     "text": [
      "For k = 1\n",
      "Accuracy: 0.9043887147335423\n",
      "              precision    recall  f1-score   support\n",
      "\n",
      "         1.0       0.94      0.96      0.95       497\n",
      "         2.0       0.69      0.66      0.67        88\n",
      "         3.0       0.90      0.81      0.85        53\n",
      "\n",
      "    accuracy                           0.90       638\n",
      "   macro avg       0.84      0.81      0.83       638\n",
      "weighted avg       0.90      0.90      0.90       638\n",
      "\n",
      "MCC: 0.7333263775635172\n",
      "Kappa: 0.7327537664977408\n",
      "------------------------------------------------------\n",
      "For k = 2\n",
      "Accuracy: 0.8981191222570533\n",
      "              precision    recall  f1-score   support\n",
      "\n",
      "         1.0       0.92      0.98      0.95       497\n",
      "         2.0       0.72      0.53      0.61        88\n",
      "         3.0       0.95      0.72      0.82        53\n",
      "\n",
      "    accuracy                           0.90       638\n",
      "   macro avg       0.86      0.74      0.79       638\n",
      "weighted avg       0.89      0.90      0.89       638\n",
      "\n",
      "MCC: 0.7015746104602769\n",
      "Kappa: 0.6912205981995935\n",
      "------------------------------------------------------\n",
      "For k = 3\n",
      "Accuracy: 0.8996865203761756\n",
      "              precision    recall  f1-score   support\n",
      "\n",
      "         1.0       0.93      0.97      0.95       497\n",
      "         2.0       0.70      0.60      0.65        88\n",
      "         3.0       0.93      0.77      0.85        53\n",
      "\n",
      "    accuracy                           0.90       638\n",
      "   macro avg       0.85      0.78      0.81       638\n",
      "weighted avg       0.90      0.90      0.90       638\n",
      "\n",
      "MCC: 0.7127744611181993\n",
      "Kappa: 0.70954203360412\n",
      "------------------------------------------------------\n",
      "For k = 4\n",
      "Accuracy: 0.8887147335423198\n",
      "              precision    recall  f1-score   support\n",
      "\n",
      "         1.0       0.91      0.98      0.94       497\n",
      "         2.0       0.71      0.50      0.59        88\n",
      "         3.0       0.92      0.68      0.78        53\n",
      "\n",
      "    accuracy                           0.89       638\n",
      "   macro avg       0.85      0.72      0.77       638\n",
      "weighted avg       0.88      0.89      0.88       638\n",
      "\n",
      "MCC: 0.6710498476526494\n",
      "Kappa: 0.658468544544303\n",
      "------------------------------------------------------\n",
      "For k = 5\n",
      "Accuracy: 0.896551724137931\n",
      "              precision    recall  f1-score   support\n",
      "\n",
      "         1.0       0.92      0.97      0.94       497\n",
      "         2.0       0.71      0.56      0.62        88\n",
      "         3.0       0.95      0.75      0.84        53\n",
      "\n",
      "    accuracy                           0.90       638\n",
      "   macro avg       0.86      0.76      0.80       638\n",
      "weighted avg       0.89      0.90      0.89       638\n",
      "\n",
      "MCC: 0.6991351777817768\n",
      "Kappa: 0.692253721853143\n",
      "------------------------------------------------------\n"
     ]
    },
    {
     "data": {
      "image/png": "[encoded data removed]",
      "text/plain": [
       "<Figure size 432x288 with 2 Axes>"
      ]
     },
     "metadata": {
      "needs_background": "light"
     },
     "output_type": "display_data"
    },
    {
     "data": {
      "image/png": "[encoded data removed]",
      "text/plain": [
       "<Figure size 432x288 with 2 Axes>"
      ]
     },
     "metadata": {
      "needs_background": "light"
     },
     "output_type": "display_data"
    },
    {
     "data": {
      "image/png": "[encoded data removed]",
      "text/plain": [
       "<Figure size 432x288 with 2 Axes>"
      ]
     },
     "metadata": {
      "needs_background": "light"
     },
     "output_type": "display_data"
    },
    {
     "data": {
      "image/png": "[encoded data removed]",
      "text/plain": [
       "<Figure size 432x288 with 2 Axes>"
      ]
     },
     "metadata": {
      "needs_background": "light"
     },
     "output_type": "display_data"
    },
    {
     "data": {
      "image/png": "[encoded data removed]",
      "text/plain": [
       "<Figure size 432x288 with 2 Axes>"
      ]
     },
     "metadata": {
      "needs_background": "light"
     },
     "output_type": "display_data"
    }
   ],
   "source": [
    "from sklearn.neighbors import KNeighborsClassifier\n",
    "\n",
    "y = df['fetal_health']\n",
    "X = df.drop(\"fetal_health\", axis=1)\n",
    "scaler = RobustScaler()\n",
    "X = scaler.fit_transform(X)\n",
    "\n",
    "X_train, X_test, y_train, y_test = train_test_split(X, y, test_size=0.30, stratify=y, random_state=1)\n",
    "\n",
    "for k in range(1,6):\n",
    "    model = KNeighborsClassifier(n_neighbors=k)\n",
    "    model.fit(X_train, y_train)\n",
    "    y_pred = model.predict(X_test)\n",
    "    print(\"For k =\", k)\n",
    "    print(\"Accuracy:\",accuracy_score(y_test, y_pred))\n",
    "    print(classification_report(y_test, y_pred))\n",
    "    print(\"MCC:\",matthews_corrcoef(y_test, y_pred))\n",
    "    print(\"Kappa:\",cohen_kappa_score(y_test, y_pred))\n",
    "    print(\"------------------------------------------------------\")\n",
    "    plot_confusion_matrix(model, X_test, y_test)"
   ]
  },
  {
   "cell_type": "markdown",
   "metadata": {},
   "source": [
    "## 4) Random Forest"
   ]
  },
  {
   "cell_type": "code",
   "execution_count": 62,
   "metadata": {},
   "outputs": [
    {
     "name": "stdout",
     "output_type": "stream",
     "text": [
      "For k = 5\n",
      "Accuracy: 0.9404388714733543\n",
      "              precision    recall  f1-score   support\n",
      "\n",
      "         1.0       0.96      0.98      0.97       497\n",
      "         2.0       0.84      0.74      0.79        88\n",
      "         3.0       0.92      0.91      0.91        53\n",
      "\n",
      "    accuracy                           0.94       638\n",
      "   macro avg       0.91      0.87      0.89       638\n",
      "weighted avg       0.94      0.94      0.94       638\n",
      "\n",
      "MCC: 0.8335483727122655\n",
      "Kappa: 0.8322667238599963\n",
      "------------------------------------------------------\n",
      "For k = 10\n",
      "Accuracy: 0.9341692789968652\n",
      "              precision    recall  f1-score   support\n",
      "\n",
      "         1.0       0.94      0.98      0.96       497\n",
      "         2.0       0.86      0.64      0.73        88\n",
      "         3.0       0.98      0.98      0.98        53\n",
      "\n",
      "    accuracy                           0.93       638\n",
      "   macro avg       0.93      0.87      0.89       638\n",
      "weighted avg       0.93      0.93      0.93       638\n",
      "\n",
      "MCC: 0.8138337594009581\n",
      "Kappa: 0.8087024808138497\n",
      "------------------------------------------------------\n",
      "For k = 20\n",
      "Accuracy: 0.9341692789968652\n",
      "              precision    recall  f1-score   support\n",
      "\n",
      "         1.0       0.94      0.99      0.96       497\n",
      "         2.0       0.85      0.66      0.74        88\n",
      "         3.0       0.96      0.91      0.93        53\n",
      "\n",
      "    accuracy                           0.93       638\n",
      "   macro avg       0.92      0.85      0.88       638\n",
      "weighted avg       0.93      0.93      0.93       638\n",
      "\n",
      "MCC: 0.8133618492718903\n",
      "Kappa: 0.8085589769236265\n",
      "------------------------------------------------------\n",
      "For k = 100\n",
      "Accuracy: 0.9373040752351097\n",
      "              precision    recall  f1-score   support\n",
      "\n",
      "         1.0       0.94      0.99      0.96       497\n",
      "         2.0       0.88      0.66      0.75        88\n",
      "         3.0       0.94      0.94      0.94        53\n",
      "\n",
      "    accuracy                           0.94       638\n",
      "   macro avg       0.92      0.86      0.89       638\n",
      "weighted avg       0.94      0.94      0.93       638\n",
      "\n",
      "MCC: 0.8230613552224877\n",
      "Kappa: 0.8183423023262436\n",
      "------------------------------------------------------\n"
     ]
    },
    {
     "data": {
      "image/png": "[encoded data removed]",
      "text/plain": [
       "<Figure size 432x288 with 2 Axes>"
      ]
     },
     "metadata": {
      "needs_background": "light"
     },
     "output_type": "display_data"
    },
    {
     "data": {
      "image/png": "[encoded data removed]",
      "text/plain": [
       "<Figure size 432x288 with 2 Axes>"
      ]
     },
     "metadata": {
      "needs_background": "light"
     },
     "output_type": "display_data"
    },
    {
     "data": {
      "image/png": "[encoded data removed]",
      "text/plain": [
       "<Figure size 432x288 with 2 Axes>"
      ]
     },
     "metadata": {
      "needs_background": "light"
     },
     "output_type": "display_data"
    },
    {
     "data": {
      "image/png": "[encoded data removed]",
      "text/plain": [
       "<Figure size 432x288 with 2 Axes>"
      ]
     },
     "metadata": {
      "needs_background": "light"
     },
     "output_type": "display_data"
    }
   ],
   "source": [
    "from sklearn.ensemble import RandomForestClassifier\n",
    "\n",
    "y = df['fetal_health']\n",
    "X = df.drop(\"fetal_health\", axis=1)\n",
    "scaler = RobustScaler()\n",
    "X = scaler.fit_transform(X)\n",
    "\n",
    "X_train, X_test, y_train, y_test = train_test_split(X, y, test_size=0.30, stratify=y, random_state=1)\n",
    "\n",
    "for k in (5,10,20,100):\n",
    "    model=RandomForestClassifier(n_estimators=k)\n",
    "    model.fit(X_train, y_train)\n",
    "    y_pred = model.predict(X_test)\n",
    "    print(\"For k =\", k)\n",
    "    print(\"Accuracy:\",accuracy_score(y_test, y_pred))\n",
    "    print(classification_report(y_test, y_pred))\n",
    "    print(\"MCC:\",matthews_corrcoef(y_test, y_pred))\n",
    "    print(\"Kappa:\",cohen_kappa_score(y_test, y_pred))\n",
    "    print(\"------------------------------------------------------\")\n",
    "    plot_confusion_matrix(model, X_test, y_test)"
   ]
  },
  {
   "cell_type": "markdown",
   "metadata": {},
   "source": [
    "## 5) Gradient Boosting"
   ]
  },
  {
   "cell_type": "code",
   "execution_count": 53,
   "metadata": {},
   "outputs": [
    {
     "name": "stdout",
     "output_type": "stream",
     "text": [
      "------------------------------------------------------\n",
      "Accuracy: 0.9498432601880877\n",
      "------------------------------------------------------\n",
      "              precision    recall  f1-score   support\n",
      "\n",
      "         1.0       0.96      0.98      0.97       497\n",
      "         2.0       0.88      0.76      0.82        88\n",
      "         3.0       0.96      0.98      0.97        53\n",
      "\n",
      "    accuracy                           0.95       638\n",
      "   macro avg       0.93      0.91      0.92       638\n",
      "weighted avg       0.95      0.95      0.95       638\n",
      "\n",
      "------------------------------------------------------\n",
      "MCC: 0.8604394251476739\n",
      "------------------------------------------------------\n",
      "Kappa: 0.8592174764511992\n",
      "------------------------------------------------------\n"
     ]
    },
    {
     "data": {
      "text/plain": [
       "<sklearn.metrics._plot.confusion_matrix.ConfusionMatrixDisplay at 0x7f8e3d3b0130>"
      ]
     },
     "execution_count": 53,
     "metadata": {},
     "output_type": "execute_result"
    },
    {
     "data": {
      "image/png": "[encoded data removed]",
      "text/plain": [
       "<Figure size 432x288 with 2 Axes>"
      ]
     },
     "metadata": {
      "needs_background": "light"
     },
     "output_type": "display_data"
    }
   ],
   "source": [
    "from sklearn.ensemble import GradientBoostingClassifier\n",
    "\n",
    "y = df['fetal_health']\n",
    "X = df.drop(\"fetal_health\", axis=1)\n",
    "X = scaler.fit_transform(X)\n",
    "\n",
    "X_train, X_test, y_train, y_test = train_test_split(X, y, test_size=0.30, stratify=y, random_state=1)\n",
    "\n",
    "model = GradientBoostingClassifier()\n",
    "model.fit(X_train, y_train)\n",
    "y_pred = model.predict(X_test)\n",
    "print(\"------------------------------------------------------\")\n",
    "print(\"Accuracy:\",accuracy_score(y_test, y_pred))\n",
    "print(\"------------------------------------------------------\")\n",
    "print(classification_report(y_test, y_pred))\n",
    "print(\"------------------------------------------------------\")\n",
    "print(\"MCC:\",matthews_corrcoef(y_test, y_pred))\n",
    "print(\"------------------------------------------------------\")\n",
    "print(\"Kappa:\",cohen_kappa_score(y_test, y_pred))\n",
    "print(\"------------------------------------------------------\")\n",
    "plot_confusion_matrix(model, X_test, y_test)"
   ]
  },
  {
   "cell_type": "markdown",
   "metadata": {},
   "source": [
    "# Binary Classifier"
   ]
  },
  {
   "cell_type": "code",
   "execution_count": 6,
   "metadata": {},
   "outputs": [],
   "source": [
    "df2 = pd.read_csv(\"binary.csv\", low_memory=True, sep=\",\")"
   ]
  },
  {
   "cell_type": "code",
   "execution_count": 7,
   "metadata": {},
   "outputs": [
    {
     "data": {
      "text/html": [
       "<div>\n",
       "<style scoped>\n",
       "    .dataframe tbody tr th:only-of-type {\n",
       "        vertical-align: middle;\n",
       "    }\n",
       "\n",
       "    .dataframe tbody tr th {\n",
       "        vertical-align: top;\n",
       "    }\n",
       "\n",
       "    .dataframe thead th {\n",
       "        text-align: right;\n",
       "    }\n",
       "</style>\n",
       "<table border=\"1\" class=\"dataframe\">\n",
       "  <thead>\n",
       "    <tr style=\"text-align: right;\">\n",
       "      <th></th>\n",
       "      <th>age</th>\n",
       "      <th>sex</th>\n",
       "      <th>cp</th>\n",
       "      <th>trestbps</th>\n",
       "      <th>chol</th>\n",
       "      <th>fbs</th>\n",
       "      <th>restecg</th>\n",
       "      <th>thalach</th>\n",
       "      <th>exang</th>\n",
       "      <th>oldpeak</th>\n",
       "      <th>slope</th>\n",
       "      <th>ca</th>\n",
       "      <th>thal</th>\n",
       "      <th>target</th>\n",
       "    </tr>\n",
       "  </thead>\n",
       "  <tbody>\n",
       "    <tr>\n",
       "      <th>0</th>\n",
       "      <td>63</td>\n",
       "      <td>1</td>\n",
       "      <td>3</td>\n",
       "      <td>145</td>\n",
       "      <td>233</td>\n",
       "      <td>1</td>\n",
       "      <td>0</td>\n",
       "      <td>150</td>\n",
       "      <td>0</td>\n",
       "      <td>2.3</td>\n",
       "      <td>0</td>\n",
       "      <td>0</td>\n",
       "      <td>1</td>\n",
       "      <td>1</td>\n",
       "    </tr>\n",
       "    <tr>\n",
       "      <th>1</th>\n",
       "      <td>37</td>\n",
       "      <td>1</td>\n",
       "      <td>2</td>\n",
       "      <td>130</td>\n",
       "      <td>250</td>\n",
       "      <td>0</td>\n",
       "      <td>1</td>\n",
       "      <td>187</td>\n",
       "      <td>0</td>\n",
       "      <td>3.5</td>\n",
       "      <td>0</td>\n",
       "      <td>0</td>\n",
       "      <td>2</td>\n",
       "      <td>1</td>\n",
       "    </tr>\n",
       "    <tr>\n",
       "      <th>2</th>\n",
       "      <td>41</td>\n",
       "      <td>0</td>\n",
       "      <td>1</td>\n",
       "      <td>130</td>\n",
       "      <td>204</td>\n",
       "      <td>0</td>\n",
       "      <td>0</td>\n",
       "      <td>172</td>\n",
       "      <td>0</td>\n",
       "      <td>1.4</td>\n",
       "      <td>2</td>\n",
       "      <td>0</td>\n",
       "      <td>2</td>\n",
       "      <td>1</td>\n",
       "    </tr>\n",
       "    <tr>\n",
       "      <th>3</th>\n",
       "      <td>56</td>\n",
       "      <td>1</td>\n",
       "      <td>1</td>\n",
       "      <td>120</td>\n",
       "      <td>236</td>\n",
       "      <td>0</td>\n",
       "      <td>1</td>\n",
       "      <td>178</td>\n",
       "      <td>0</td>\n",
       "      <td>0.8</td>\n",
       "      <td>2</td>\n",
       "      <td>0</td>\n",
       "      <td>2</td>\n",
       "      <td>1</td>\n",
       "    </tr>\n",
       "    <tr>\n",
       "      <th>4</th>\n",
       "      <td>57</td>\n",
       "      <td>0</td>\n",
       "      <td>0</td>\n",
       "      <td>120</td>\n",
       "      <td>354</td>\n",
       "      <td>0</td>\n",
       "      <td>1</td>\n",
       "      <td>163</td>\n",
       "      <td>1</td>\n",
       "      <td>0.6</td>\n",
       "      <td>2</td>\n",
       "      <td>0</td>\n",
       "      <td>2</td>\n",
       "      <td>1</td>\n",
       "    </tr>\n",
       "    <tr>\n",
       "      <th>...</th>\n",
       "      <td>...</td>\n",
       "      <td>...</td>\n",
       "      <td>...</td>\n",
       "      <td>...</td>\n",
       "      <td>...</td>\n",
       "      <td>...</td>\n",
       "      <td>...</td>\n",
       "      <td>...</td>\n",
       "      <td>...</td>\n",
       "      <td>...</td>\n",
       "      <td>...</td>\n",
       "      <td>...</td>\n",
       "      <td>...</td>\n",
       "      <td>...</td>\n",
       "    </tr>\n",
       "    <tr>\n",
       "      <th>298</th>\n",
       "      <td>57</td>\n",
       "      <td>0</td>\n",
       "      <td>0</td>\n",
       "      <td>140</td>\n",
       "      <td>241</td>\n",
       "      <td>0</td>\n",
       "      <td>1</td>\n",
       "      <td>123</td>\n",
       "      <td>1</td>\n",
       "      <td>0.2</td>\n",
       "      <td>1</td>\n",
       "      <td>0</td>\n",
       "      <td>3</td>\n",
       "      <td>0</td>\n",
       "    </tr>\n",
       "    <tr>\n",
       "      <th>299</th>\n",
       "      <td>45</td>\n",
       "      <td>1</td>\n",
       "      <td>3</td>\n",
       "      <td>110</td>\n",
       "      <td>264</td>\n",
       "      <td>0</td>\n",
       "      <td>1</td>\n",
       "      <td>132</td>\n",
       "      <td>0</td>\n",
       "      <td>1.2</td>\n",
       "      <td>1</td>\n",
       "      <td>0</td>\n",
       "      <td>3</td>\n",
       "      <td>0</td>\n",
       "    </tr>\n",
       "    <tr>\n",
       "      <th>300</th>\n",
       "      <td>68</td>\n",
       "      <td>1</td>\n",
       "      <td>0</td>\n",
       "      <td>144</td>\n",
       "      <td>193</td>\n",
       "      <td>1</td>\n",
       "      <td>1</td>\n",
       "      <td>141</td>\n",
       "      <td>0</td>\n",
       "      <td>3.4</td>\n",
       "      <td>1</td>\n",
       "      <td>2</td>\n",
       "      <td>3</td>\n",
       "      <td>0</td>\n",
       "    </tr>\n",
       "    <tr>\n",
       "      <th>301</th>\n",
       "      <td>57</td>\n",
       "      <td>1</td>\n",
       "      <td>0</td>\n",
       "      <td>130</td>\n",
       "      <td>131</td>\n",
       "      <td>0</td>\n",
       "      <td>1</td>\n",
       "      <td>115</td>\n",
       "      <td>1</td>\n",
       "      <td>1.2</td>\n",
       "      <td>1</td>\n",
       "      <td>1</td>\n",
       "      <td>3</td>\n",
       "      <td>0</td>\n",
       "    </tr>\n",
       "    <tr>\n",
       "      <th>302</th>\n",
       "      <td>57</td>\n",
       "      <td>0</td>\n",
       "      <td>1</td>\n",
       "      <td>130</td>\n",
       "      <td>236</td>\n",
       "      <td>0</td>\n",
       "      <td>0</td>\n",
       "      <td>174</td>\n",
       "      <td>0</td>\n",
       "      <td>0.0</td>\n",
       "      <td>1</td>\n",
       "      <td>1</td>\n",
       "      <td>2</td>\n",
       "      <td>0</td>\n",
       "    </tr>\n",
       "  </tbody>\n",
       "</table>\n",
       "<p>303 rows × 14 columns</p>\n",
       "</div>"
      ],
      "text/plain": [
       "     age  sex  cp  trestbps  chol  fbs  restecg  thalach  exang  oldpeak  \\\n",
       "0     63    1   3       145   233    1        0      150      0      2.3   \n",
       "1     37    1   2       130   250    0        1      187      0      3.5   \n",
       "2     41    0   1       130   204    0        0      172      0      1.4   \n",
       "3     56    1   1       120   236    0        1      178      0      0.8   \n",
       "4     57    0   0       120   354    0        1      163      1      0.6   \n",
       "..   ...  ...  ..       ...   ...  ...      ...      ...    ...      ...   \n",
       "298   57    0   0       140   241    0        1      123      1      0.2   \n",
       "299   45    1   3       110   264    0        1      132      0      1.2   \n",
       "300   68    1   0       144   193    1        1      141      0      3.4   \n",
       "301   57    1   0       130   131    0        1      115      1      1.2   \n",
       "302   57    0   1       130   236    0        0      174      0      0.0   \n",
       "\n",
       "     slope  ca  thal  target  \n",
       "0        0   0     1       1  \n",
       "1        0   0     2       1  \n",
       "2        2   0     2       1  \n",
       "3        2   0     2       1  \n",
       "4        2   0     2       1  \n",
       "..     ...  ..   ...     ...  \n",
       "298      1   0     3       0  \n",
       "299      1   0     3       0  \n",
       "300      1   2     3       0  \n",
       "301      1   1     3       0  \n",
       "302      1   1     2       0  \n",
       "\n",
       "[303 rows x 14 columns]"
      ]
     },
     "execution_count": 7,
     "metadata": {},
     "output_type": "execute_result"
    }
   ],
   "source": [
    "df2"
   ]
  },
  {
   "cell_type": "code",
   "execution_count": 47,
   "metadata": {},
   "outputs": [
    {
     "name": "stdout",
     "output_type": "stream",
     "text": [
      "------------------------------------------------------\n",
      "Accuracy: 0.8571428571428571\n",
      "------------------------------------------------------\n",
      "              precision    recall  f1-score   support\n",
      "\n",
      "           0       0.85      0.83      0.84        41\n",
      "           1       0.86      0.88      0.87        50\n",
      "\n",
      "    accuracy                           0.86        91\n",
      "   macro avg       0.86      0.85      0.86        91\n",
      "weighted avg       0.86      0.86      0.86        91\n",
      "\n",
      "------------------------------------------------------\n",
      "MCC: 0.7110045701712471\n",
      "------------------------------------------------------\n",
      "Kappa: 0.710828648252261\n",
      "------------------------------------------------------\n",
      "AUC: 0.9307317073170732\n",
      "------------------------------------------------------\n",
      " \n"
     ]
    },
    {
     "data": {
      "text/plain": [
       "<sklearn.metrics._plot.confusion_matrix.ConfusionMatrixDisplay at 0x7f8e3d4d5550>"
      ]
     },
     "execution_count": 47,
     "metadata": {},
     "output_type": "execute_result"
    },
    {
     "data": {
      "image/png": "[encoded data removed]",
      "text/plain": [
       "<Figure size 432x288 with 1 Axes>"
      ]
     },
     "metadata": {
      "needs_background": "light"
     },
     "output_type": "display_data"
    },
    {
     "data": {
      "image/png": "[encoded data removed]",
      "text/plain": [
       "<Figure size 432x288 with 2 Axes>"
      ]
     },
     "metadata": {
      "needs_background": "light"
     },
     "output_type": "display_data"
    }
   ],
   "source": [
    "from sklearn.linear_model import LogisticRegression\n",
    "\n",
    "y = df2['target']\n",
    "X = df2.drop(\"target\", axis=1)\n",
    "scaler = RobustScaler()\n",
    "X = scaler.fit_transform(X)\n",
    "\n",
    "X_train, X_test, y_train, y_test = train_test_split(X, y, test_size=0.30, stratify=y, random_state=1)\n",
    "\n",
    "model = LogisticRegression()\n",
    "model.fit(X_train, y_train)\n",
    "y_pred = model.predict(X_test)\n",
    "\n",
    "print(\"------------------------------------------------------\")\n",
    "print(\"Accuracy:\",accuracy_score(y_test, y_pred))\n",
    "print(\"------------------------------------------------------\")\n",
    "print(classification_report(y_test, y_pred))\n",
    "print(\"------------------------------------------------------\")\n",
    "print(\"MCC:\",matthews_corrcoef(y_test, y_pred))\n",
    "print(\"------------------------------------------------------\")\n",
    "print(\"Kappa:\",cohen_kappa_score(y_test, y_pred))\n",
    "print(\"------------------------------------------------------\")\n",
    "print(\"AUC:\", roc_auc_score(y_test, y_pred_proba))\n",
    "print(\"------------------------------------------------------\")\n",
    "print(\" \")\n",
    "metrics.plot_roc_curve(model, X_test, y_test, color='darkorange',drop_intermediate=False)\n",
    "plt.title('ROC Curve')\n",
    "plt.plot([0, 1], [0, 1], color='navy', linestyle='--')\n",
    "plot_confusion_matrix(model, X_test, y_test)"
   ]
  },
  {
   "cell_type": "raw",
   "metadata": {},
   "source": [
    "Notes for the parameters :\n",
    "\n",
    "- https://automl.github.io/auto-sklearn/master/api.html\n",
    "\n",
    "Définir \"time_left_for_this_task\" à 3600 pour une heure de travail\n",
    "ensemble_size=1 pour ne pas utiliser d'ensemble modèle\n",
    "metric = choisir parmi un des metrics pour l'optimiser :\n",
    "autosklearn.metrics.accuracy\n",
    "autosklearn.metrics.balanced_accuracy\n",
    "autosklearn.metrics.f1\n",
    "autosklearn.metrics.f1_macro\n",
    "autosklearn.metrics.f1_micro\n",
    "autosklearn.metrics.f1_samples\n",
    "autosklearn.metrics.f1_weighted\n",
    "autosklearn.metrics.roc_auc\n",
    "autosklearn.metrics.precision¶\n",
    "autosklearn.metrics.precision_macro\n",
    "autosklearn.metrics.precision_micro\n",
    "autosklearn.metrics.precision_samples\n",
    "autosklearn.metrics.precision_weighted\n",
    "autosklearn.metrics.average_precision\n",
    "autosklearn.metrics.recall\n",
    "autosklearn.metrics.recall_macro\n",
    "autosklearn.metrics.recall_micro\n",
    "autosklearn.metrics.recall_samples\n",
    "autosklearn.metrics.recall_weighted\n",
    "autosklearn.metrics.log_loss\n",
    "\n",
    "- test_size= 0.20 in general, 0,30 in TADA\n",
    "- stratify=y : This stratify parameter makes a split so that the proportion of values in the sample produced will be the same as the proportion of values provided to parameter stratify.\n",
    "For example, if variable y is a binary categorical variable with values 0 and 1 and there are 25% of zeros and 75% of ones, stratify=y will make sure that your random split has 25% of 0's and 75% of 1's.\n",
    "- random_state=1 : scores will be indentical as the random is \"fixed\", \"None\" = full random each time\n",
    "- Note that in binary classification, recall of the positive class is also known as “sensitivity”; recall of the negative class is “specificity”."
   ]
  }
 ],
 "metadata": {
  "kernelspec": {
   "display_name": "Python 3",
   "language": "python",
   "name": "python3"
  },
  "language_info": {
   "codemirror_mode": {
    "name": "ipython",
    "version": 3
   },
   "file_extension": ".py",
   "mimetype": "text/x-python",
   "name": "python",
   "nbconvert_exporter": "python",
   "pygments_lexer": "ipython3",
   "version": "3.8.5"
  }
 },
 "nbformat": 4,
 "nbformat_minor": 4
}
