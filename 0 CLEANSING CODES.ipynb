{
 "cells": [
  {
   "cell_type": "code",
   "execution_count": 10,
   "metadata": {},
   "outputs": [],
   "source": [
    "import pandas as pd\n",
    "import numpy as np\n",
    "import matplotlib.pyplot as plt\n",
    "import seaborn as sb\n",
    "from sklearn import metrics\n",
    "from datetime import datetime\n",
    "from pandas_profiling import ProfileReport"
   ]
  },
  {
   "cell_type": "code",
   "execution_count": null,
   "metadata": {},
   "outputs": [],
   "source": [
    "# installer packages\n",
    "!pip uninstall --yes\n",
    "!pip install --yes\n",
    "!conda install -c anaconda pandas-profiling --yes"
   ]
  },
  {
   "cell_type": "code",
   "execution_count": null,
   "metadata": {},
   "outputs": [],
   "source": [
    "#lister tous les packages installées\n",
    "conda list"
   ]
  },
  {
   "cell_type": "code",
   "execution_count": 9,
   "metadata": {},
   "outputs": [],
   "source": [
    "# Lire un csv ou excel\n",
    "df = pd.read_csv(\"dataTAIWAN.csv\", low_memory=True)\n",
    "df = pd.read_excel('dataTAIWAN.xlsx', index_col=0) \n",
    "# possibilité de choisir son séparateur de variables avec l'option sep=\";\"\n",
    "\n",
    "# pour afficher toutes les columns\n",
    "pd.set_option(\"max_columns\", None) \n",
    "pd.set_option(\"display.max_rows\", None)"
   ]
  },
  {
   "cell_type": "code",
   "execution_count": null,
   "metadata": {},
   "outputs": [],
   "source": [
    "# check columns type\n",
    "df['Date'].dtypes"
   ]
  },
  {
   "cell_type": "code",
   "execution_count": null,
   "metadata": {},
   "outputs": [],
   "source": [
    "# check shape avec print de la phrase devant\n",
    "print('The shape of our features is:', features.shape)"
   ]
  },
  {
   "cell_type": "markdown",
   "metadata": {},
   "source": [
    "One hot encoding takes this:\n",
    "\n",
    "| week |\n",
    "|------|\n",
    "| Mon  |\n",
    "| Tue  |\n",
    "| Wed  |\n",
    "| Thu  |\n",
    "| Fri  |\n",
    "\n",
    "and converts it into:\n",
    "\n",
    "| Mon | Tue | Wed | Thu | Fri |\n",
    "|-----|-----|-----|-----|-----|\n",
    "| 1   | 0   | 0   | 0   | 0   |\n",
    "| 0   | 1   | 0   | 0   | 0   |\n",
    "| 0   | 0   | 1   | 0   | 0   |\n",
    "| 0   | 0   | 0   | 1   | 0   |\n",
    "| 0   | 0   | 0   | 0   | 1   |"
   ]
  },
  {
   "cell_type": "code",
   "execution_count": null,
   "metadata": {},
   "outputs": [],
   "source": [
    "# One-hot encode categorical features : encoder catégs jours de la semaine par exemple en 0/1\n",
    "features = pd.get_dummies(features)"
   ]
  },
  {
   "cell_type": "markdown",
   "metadata": {},
   "source": [
    "## Feature is input; label is output."
   ]
  },
  {
   "cell_type": "code",
   "execution_count": null,
   "metadata": {},
   "outputs": [],
   "source": [
    "# check dataframes infos\n",
    "df.info\n",
    "df.shape"
   ]
  },
  {
   "cell_type": "code",
   "execution_count": null,
   "metadata": {},
   "outputs": [],
   "source": [
    "# to display the distribution of the variable \"fetal_health\"\n",
    "sns.countplot(df['fetal_health'])"
   ]
  },
  {
   "cell_type": "code",
   "execution_count": null,
   "metadata": {},
   "outputs": [],
   "source": [
    "#generation d'un report pour corrélations des variables\n",
    "profile = ProfileReport(df, title=\"Pandas Profiling Report\")\n",
    "# afficher dans une cellule jupyter le report\n",
    "profile.to_widgets()\n",
    "# afficher dans une page HTML\n",
    "profile.to_notebook_iframe()\n",
    "# autres infos sur : https://github.com/pandas-profiling/pandas-profiling"
   ]
  },
  {
   "cell_type": "code",
   "execution_count": null,
   "metadata": {},
   "outputs": [],
   "source": [
    "# renommer la colonne \"fetal_health\" par \"Target\"\n",
    "df.rename(columns={'fetal_health': 'Target'}, inplace=True)"
   ]
  },
  {
   "cell_type": "code",
   "execution_count": null,
   "metadata": {},
   "outputs": [],
   "source": [
    "# bouger la column \"Mois\" à la 13ème place\n",
    "col_tomove = predictions.pop('prediction')\n",
    "predictions.insert(9, 'prediction', col_tomove)\n",
    "display(predictions)"
   ]
  },
  {
   "cell_type": "code",
   "execution_count": null,
   "metadata": {},
   "outputs": [],
   "source": [
    "# concatener X_train et y_train après un split par exemple (attention same index):\n",
    "newdf = pd.concat([X_train, y_train], axis=1)\n",
    "display(newdf)"
   ]
  },
  {
   "cell_type": "code",
   "execution_count": null,
   "metadata": {},
   "outputs": [],
   "source": [
    "# Convert string date to 3 separeted columns\n",
    "df[['Year', 'MonthToDelete', 'Jour']] = pd.DataFrame([ x.split('-') for x in df['Date'].tolist() ])\n",
    "\n",
    "# Split un timestamp en 3 colums \n",
    "df['Timestamp'] = pd.to_datetime(df['Timestamp'])\n",
    "df['Day'] = df['Timestamp'].dt.strftime('%d')\n",
    "df['Month'] = df['Timestamp'].dt.strftime('%m')\n",
    "df['Year'] = df['Timestamp'].dt.strftime('%Y')\n",
    "df['Hour'] = df['Timestamp'].dt.strftime('%H')\n",
    "df['Minute'] = df['Timestamp'].dt.strftime('%M')\n",
    "df['Second'] = df['Timestamp'].dt.strftime('%S')\n",
    "df['Hour'] = df['Hour'].astype(int)\n",
    "\n",
    "df.astype({'Date': 'str'}).dtypes\n",
    "\n",
    "# crée une nouvelle column avec \"Moment\" qui correspond au moment de la journée en fonction de Hour\n",
    "df.loc[df['Hour'] >= 0, 'Moment'] = \"Morning\"\n",
    "df.loc[df['Hour'] > 12, 'Moment'] = \"Afternoon\"\n",
    "df.loc[df['Hour'] > 18, 'Moment'] = \"Evening\""
   ]
  },
  {
   "cell_type": "code",
   "execution_count": null,
   "metadata": {},
   "outputs": [],
   "source": [
    "# réorganiser les colums, d'abord afficher le nom des cols :\n",
    "cols = df.columns.tolist()\n",
    "cols\n",
    "\n",
    "# réorganiser en copiant/coller :\n",
    "\n",
    "df = df[[\n",
    "'GOAL: Sales',\n",
    " 'Store',\n",
    " 'DayOfWeek',\n",
    " 'Customers',\n",
    " 'Promo',\n",
    " 'StateHoliday',\n",
    " 'StoreType',\n",
    " 'Assortment',\n",
    " 'CompetitionDistance',\n",
    " 'CompetitionOpenSinceMonth',\n",
    " 'CompetitionOpenSinceYear',\n",
    " 'Promo2',\n",
    " 'Promo2SinceWeek',\n",
    " 'Promo2SinceYear',\n",
    " 'PromoInterval' \n",
    "]]"
   ]
  },
  {
   "cell_type": "code",
   "execution_count": 11,
   "metadata": {},
   "outputs": [],
   "source": [
    "# changer la target encodage en 0 = no bankrupt et 1 = bankrupt\n",
    "df.loc[(df['Y'] == 0),'Y']='No Bankrupt'\n",
    "df.loc[(df['Y'] == 1),'Y']='Bankrupt'\n",
    "df.dropna(inplace=True)\n",
    "\n",
    "#supprimer les lignes qui contiennent des NaN\n",
    "df.dropna()\n",
    "#supprimer les columns qui contiennent des NaN\n",
    "df.dropna(axis='columns')\n",
    "\n",
    "# plus rapide en une seule ligne :\n",
    "\n",
    "df['StateHoliday'].replace([0,1,2,3],['None','Public Holiday','Easter Holiday','Christmas'],inplace=True)\n",
    "\n",
    "\n",
    "df.to_csv(r'/Users/davidta/Desktop/Jupyter/banktaiwan2.csv', index = False)"
   ]
  },
  {
   "cell_type": "code",
   "execution_count": null,
   "metadata": {},
   "outputs": [],
   "source": [
    "#drop columns\n",
    "df.drop(['B', 'C'], axis=1)\n",
    "\n",
    "#drop rows where colums Species is Bream....\n",
    "df[df['Species'] == \"Bream\"]\n",
    "\n"
   ]
  },
  {
   "cell_type": "code",
   "execution_count": 11,
   "metadata": {},
   "outputs": [],
   "source": [
    "from sklearn.datasets import load_iris\n",
    "\n",
    "data = load_iris()\n",
    "df = pd.DataFrame(data.data, columns=data.feature_names)"
   ]
  },
  {
   "cell_type": "code",
   "execution_count": 12,
   "metadata": {},
   "outputs": [
    {
     "data": {
      "text/html": [
       "<div>\n",
       "<style scoped>\n",
       "    .dataframe tbody tr th:only-of-type {\n",
       "        vertical-align: middle;\n",
       "    }\n",
       "\n",
       "    .dataframe tbody tr th {\n",
       "        vertical-align: top;\n",
       "    }\n",
       "\n",
       "    .dataframe thead th {\n",
       "        text-align: right;\n",
       "    }\n",
       "</style>\n",
       "<table border=\"1\" class=\"dataframe\">\n",
       "  <thead>\n",
       "    <tr style=\"text-align: right;\">\n",
       "      <th></th>\n",
       "      <th>sepal length (cm)</th>\n",
       "      <th>sepal width (cm)</th>\n",
       "      <th>petal length (cm)</th>\n",
       "      <th>petal width (cm)</th>\n",
       "    </tr>\n",
       "  </thead>\n",
       "  <tbody>\n",
       "    <tr>\n",
       "      <th>0</th>\n",
       "      <td>5.1</td>\n",
       "      <td>3.5</td>\n",
       "      <td>1.4</td>\n",
       "      <td>0.2</td>\n",
       "    </tr>\n",
       "    <tr>\n",
       "      <th>1</th>\n",
       "      <td>4.9</td>\n",
       "      <td>3.0</td>\n",
       "      <td>1.4</td>\n",
       "      <td>0.2</td>\n",
       "    </tr>\n",
       "    <tr>\n",
       "      <th>2</th>\n",
       "      <td>4.7</td>\n",
       "      <td>3.2</td>\n",
       "      <td>1.3</td>\n",
       "      <td>0.2</td>\n",
       "    </tr>\n",
       "    <tr>\n",
       "      <th>3</th>\n",
       "      <td>4.6</td>\n",
       "      <td>3.1</td>\n",
       "      <td>1.5</td>\n",
       "      <td>0.2</td>\n",
       "    </tr>\n",
       "    <tr>\n",
       "      <th>4</th>\n",
       "      <td>5.0</td>\n",
       "      <td>3.6</td>\n",
       "      <td>1.4</td>\n",
       "      <td>0.2</td>\n",
       "    </tr>\n",
       "    <tr>\n",
       "      <th>...</th>\n",
       "      <td>...</td>\n",
       "      <td>...</td>\n",
       "      <td>...</td>\n",
       "      <td>...</td>\n",
       "    </tr>\n",
       "    <tr>\n",
       "      <th>145</th>\n",
       "      <td>6.7</td>\n",
       "      <td>3.0</td>\n",
       "      <td>5.2</td>\n",
       "      <td>2.3</td>\n",
       "    </tr>\n",
       "    <tr>\n",
       "      <th>146</th>\n",
       "      <td>6.3</td>\n",
       "      <td>2.5</td>\n",
       "      <td>5.0</td>\n",
       "      <td>1.9</td>\n",
       "    </tr>\n",
       "    <tr>\n",
       "      <th>147</th>\n",
       "      <td>6.5</td>\n",
       "      <td>3.0</td>\n",
       "      <td>5.2</td>\n",
       "      <td>2.0</td>\n",
       "    </tr>\n",
       "    <tr>\n",
       "      <th>148</th>\n",
       "      <td>6.2</td>\n",
       "      <td>3.4</td>\n",
       "      <td>5.4</td>\n",
       "      <td>2.3</td>\n",
       "    </tr>\n",
       "    <tr>\n",
       "      <th>149</th>\n",
       "      <td>5.9</td>\n",
       "      <td>3.0</td>\n",
       "      <td>5.1</td>\n",
       "      <td>1.8</td>\n",
       "    </tr>\n",
       "  </tbody>\n",
       "</table>\n",
       "<p>150 rows × 4 columns</p>\n",
       "</div>"
      ],
      "text/plain": [
       "     sepal length (cm)  sepal width (cm)  petal length (cm)  petal width (cm)\n",
       "0                  5.1               3.5                1.4               0.2\n",
       "1                  4.9               3.0                1.4               0.2\n",
       "2                  4.7               3.2                1.3               0.2\n",
       "3                  4.6               3.1                1.5               0.2\n",
       "4                  5.0               3.6                1.4               0.2\n",
       "..                 ...               ...                ...               ...\n",
       "145                6.7               3.0                5.2               2.3\n",
       "146                6.3               2.5                5.0               1.9\n",
       "147                6.5               3.0                5.2               2.0\n",
       "148                6.2               3.4                5.4               2.3\n",
       "149                5.9               3.0                5.1               1.8\n",
       "\n",
       "[150 rows x 4 columns]"
      ]
     },
     "execution_count": 12,
     "metadata": {},
     "output_type": "execute_result"
    }
   ],
   "source": [
    "df"
   ]
  },
  {
   "cell_type": "code",
   "execution_count": 15,
   "metadata": {},
   "outputs": [
    {
     "data": {
      "text/html": [
       "<div>\n",
       "<style scoped>\n",
       "    .dataframe tbody tr th:only-of-type {\n",
       "        vertical-align: middle;\n",
       "    }\n",
       "\n",
       "    .dataframe tbody tr th {\n",
       "        vertical-align: top;\n",
       "    }\n",
       "\n",
       "    .dataframe thead th {\n",
       "        text-align: right;\n",
       "    }\n",
       "</style>\n",
       "<table border=\"1\" class=\"dataframe\">\n",
       "  <thead>\n",
       "    <tr style=\"text-align: right;\">\n",
       "      <th></th>\n",
       "      <th>sepal length (cm)</th>\n",
       "      <th>sepal width (cm)</th>\n",
       "      <th>petal length (cm)</th>\n",
       "      <th>petal width (cm)</th>\n",
       "    </tr>\n",
       "  </thead>\n",
       "  <tbody>\n",
       "    <tr>\n",
       "      <th>0</th>\n",
       "      <td>5.1</td>\n",
       "      <td>3.5</td>\n",
       "      <td>1.4</td>\n",
       "      <td>0.2</td>\n",
       "    </tr>\n",
       "    <tr>\n",
       "      <th>1</th>\n",
       "      <td>4.9</td>\n",
       "      <td>3.0</td>\n",
       "      <td>1.4</td>\n",
       "      <td>0.2</td>\n",
       "    </tr>\n",
       "    <tr>\n",
       "      <th>2</th>\n",
       "      <td>4.7</td>\n",
       "      <td>3.2</td>\n",
       "      <td>1.3</td>\n",
       "      <td>0.2</td>\n",
       "    </tr>\n",
       "    <tr>\n",
       "      <th>3</th>\n",
       "      <td>4.6</td>\n",
       "      <td>3.1</td>\n",
       "      <td>1.5</td>\n",
       "      <td>0.2</td>\n",
       "    </tr>\n",
       "    <tr>\n",
       "      <th>5</th>\n",
       "      <td>5.4</td>\n",
       "      <td>3.9</td>\n",
       "      <td>1.7</td>\n",
       "      <td>0.4</td>\n",
       "    </tr>\n",
       "    <tr>\n",
       "      <th>...</th>\n",
       "      <td>...</td>\n",
       "      <td>...</td>\n",
       "      <td>...</td>\n",
       "      <td>...</td>\n",
       "    </tr>\n",
       "    <tr>\n",
       "      <th>145</th>\n",
       "      <td>6.7</td>\n",
       "      <td>3.0</td>\n",
       "      <td>5.2</td>\n",
       "      <td>2.3</td>\n",
       "    </tr>\n",
       "    <tr>\n",
       "      <th>146</th>\n",
       "      <td>6.3</td>\n",
       "      <td>2.5</td>\n",
       "      <td>5.0</td>\n",
       "      <td>1.9</td>\n",
       "    </tr>\n",
       "    <tr>\n",
       "      <th>147</th>\n",
       "      <td>6.5</td>\n",
       "      <td>3.0</td>\n",
       "      <td>5.2</td>\n",
       "      <td>2.0</td>\n",
       "    </tr>\n",
       "    <tr>\n",
       "      <th>148</th>\n",
       "      <td>6.2</td>\n",
       "      <td>3.4</td>\n",
       "      <td>5.4</td>\n",
       "      <td>2.3</td>\n",
       "    </tr>\n",
       "    <tr>\n",
       "      <th>149</th>\n",
       "      <td>5.9</td>\n",
       "      <td>3.0</td>\n",
       "      <td>5.1</td>\n",
       "      <td>1.8</td>\n",
       "    </tr>\n",
       "  </tbody>\n",
       "</table>\n",
       "<p>140 rows × 4 columns</p>\n",
       "</div>"
      ],
      "text/plain": [
       "     sepal length (cm)  sepal width (cm)  petal length (cm)  petal width (cm)\n",
       "0                  5.1               3.5                1.4               0.2\n",
       "1                  4.9               3.0                1.4               0.2\n",
       "2                  4.7               3.2                1.3               0.2\n",
       "3                  4.6               3.1                1.5               0.2\n",
       "5                  5.4               3.9                1.7               0.4\n",
       "..                 ...               ...                ...               ...\n",
       "145                6.7               3.0                5.2               2.3\n",
       "146                6.3               2.5                5.0               1.9\n",
       "147                6.5               3.0                5.2               2.0\n",
       "148                6.2               3.4                5.4               2.3\n",
       "149                5.9               3.0                5.1               1.8\n",
       "\n",
       "[140 rows x 4 columns]"
      ]
     },
     "execution_count": 15,
     "metadata": {},
     "output_type": "execute_result"
    }
   ],
   "source": [
    "df[df['sepal length (cm)'] != 5.0]"
   ]
  },
  {
   "cell_type": "code",
   "execution_count": null,
   "metadata": {},
   "outputs": [],
   "source": [
    "# Lire un excel\n",
    "df = pd.read_excel(\"GME.xlsx\")"
   ]
  },
  {
   "cell_type": "code",
   "execution_count": 5,
   "metadata": {},
   "outputs": [
    {
     "data": {
      "text/html": [
       "<div>\n",
       "<style scoped>\n",
       "    .dataframe tbody tr th:only-of-type {\n",
       "        vertical-align: middle;\n",
       "    }\n",
       "\n",
       "    .dataframe tbody tr th {\n",
       "        vertical-align: top;\n",
       "    }\n",
       "\n",
       "    .dataframe thead th {\n",
       "        text-align: right;\n",
       "    }\n",
       "</style>\n",
       "<table border=\"1\" class=\"dataframe\">\n",
       "  <thead>\n",
       "    <tr style=\"text-align: right;\">\n",
       "      <th></th>\n",
       "      <th>Date</th>\n",
       "      <th>Open</th>\n",
       "      <th>High</th>\n",
       "      <th>Low</th>\n",
       "      <th>Close</th>\n",
       "      <th>Adj Close</th>\n",
       "      <th>Volume</th>\n",
       "    </tr>\n",
       "  </thead>\n",
       "  <tbody>\n",
       "    <tr>\n",
       "      <th>0</th>\n",
       "      <td>2020-03-16</td>\n",
       "      <td>3.93</td>\n",
       "      <td>4.57</td>\n",
       "      <td>3.90</td>\n",
       "      <td>4.37</td>\n",
       "      <td>4.37</td>\n",
       "      <td>4866700.0</td>\n",
       "    </tr>\n",
       "    <tr>\n",
       "      <th>1</th>\n",
       "      <td>2020-03-17</td>\n",
       "      <td>4.40</td>\n",
       "      <td>4.65</td>\n",
       "      <td>4.11</td>\n",
       "      <td>4.23</td>\n",
       "      <td>4.23</td>\n",
       "      <td>3562200.0</td>\n",
       "    </tr>\n",
       "    <tr>\n",
       "      <th>2</th>\n",
       "      <td>2020-03-18</td>\n",
       "      <td>4.10</td>\n",
       "      <td>4.25</td>\n",
       "      <td>3.50</td>\n",
       "      <td>3.77</td>\n",
       "      <td>3.77</td>\n",
       "      <td>3651700.0</td>\n",
       "    </tr>\n",
       "    <tr>\n",
       "      <th>3</th>\n",
       "      <td>2020-03-19</td>\n",
       "      <td>3.71</td>\n",
       "      <td>4.20</td>\n",
       "      <td>3.55</td>\n",
       "      <td>4.19</td>\n",
       "      <td>4.19</td>\n",
       "      <td>5039500.0</td>\n",
       "    </tr>\n",
       "    <tr>\n",
       "      <th>4</th>\n",
       "      <td>2020-03-20</td>\n",
       "      <td>4.08</td>\n",
       "      <td>4.08</td>\n",
       "      <td>3.65</td>\n",
       "      <td>3.76</td>\n",
       "      <td>3.76</td>\n",
       "      <td>7722200.0</td>\n",
       "    </tr>\n",
       "  </tbody>\n",
       "</table>\n",
       "</div>"
      ],
      "text/plain": [
       "         Date  Open  High   Low  Close  Adj Close     Volume\n",
       "0  2020-03-16  3.93  4.57  3.90   4.37       4.37  4866700.0\n",
       "1  2020-03-17  4.40  4.65  4.11   4.23       4.23  3562200.0\n",
       "2  2020-03-18  4.10  4.25  3.50   3.77       3.77  3651700.0\n",
       "3  2020-03-19  3.71  4.20  3.55   4.19       4.19  5039500.0\n",
       "4  2020-03-20  4.08  4.08  3.65   3.76       3.76  7722200.0"
      ]
     },
     "execution_count": 5,
     "metadata": {},
     "output_type": "execute_result"
    }
   ],
   "source": [
    "#datasetcsv.columns = ['Date', 'Open', 'High', 'Low', 'Close', 'Volume']\n",
    "df.head()\n",
    "#display(datasetcsv)"
   ]
  },
  {
   "cell_type": "code",
   "execution_count": null,
   "metadata": {},
   "outputs": [],
   "source": [
    "# selectionner les rows entre 2 dates (attention de le faire avant la convertion de date en français)\n",
    "start_date = \"2001-01-01\"\n",
    "end_date = \"2002-12-31\"\n",
    "\n",
    "after_start_date = df[\"TRANSACTION_DT\"] >= start_date\n",
    "before_end_date = df[\"TRANSACTION_DT\"] <= end_date\n",
    "between_two_dates = after_start_date & before_end_date\n",
    "df = df.loc[between_two_dates]"
   ]
  },
  {
   "cell_type": "code",
   "execution_count": 6,
   "metadata": {},
   "outputs": [],
   "source": [
    "# Convertir dates\n",
    "df['Date']= pd.to_datetime(df['Date'])\n",
    "df['Date'] = pd.to_datetime(df['Date'], format='%Y/%m/%d').dt.strftime('%d-%m-%Y')\n",
    "# y = year en 2 caractères\n",
    "# Y = year en 4 caractères"
   ]
  },
  {
   "cell_type": "code",
   "execution_count": 19,
   "metadata": {},
   "outputs": [
    {
     "data": {
      "text/html": [
       "<div>\n",
       "<style scoped>\n",
       "    .dataframe tbody tr th:only-of-type {\n",
       "        vertical-align: middle;\n",
       "    }\n",
       "\n",
       "    .dataframe tbody tr th {\n",
       "        vertical-align: top;\n",
       "    }\n",
       "\n",
       "    .dataframe thead th {\n",
       "        text-align: right;\n",
       "    }\n",
       "</style>\n",
       "<table border=\"1\" class=\"dataframe\">\n",
       "  <thead>\n",
       "    <tr style=\"text-align: right;\">\n",
       "      <th></th>\n",
       "      <th>Date</th>\n",
       "      <th>Open</th>\n",
       "      <th>High</th>\n",
       "      <th>Low</th>\n",
       "      <th>Close</th>\n",
       "      <th>Adj Close</th>\n",
       "      <th>Volume</th>\n",
       "    </tr>\n",
       "  </thead>\n",
       "  <tbody>\n",
       "    <tr>\n",
       "      <th>0</th>\n",
       "      <td>16-03-2020</td>\n",
       "      <td>3.93</td>\n",
       "      <td>4.57</td>\n",
       "      <td>3.90</td>\n",
       "      <td>4.37</td>\n",
       "      <td>4.37</td>\n",
       "      <td>4866700.0</td>\n",
       "    </tr>\n",
       "    <tr>\n",
       "      <th>1</th>\n",
       "      <td>17-03-2020</td>\n",
       "      <td>4.40</td>\n",
       "      <td>4.65</td>\n",
       "      <td>4.11</td>\n",
       "      <td>4.23</td>\n",
       "      <td>4.23</td>\n",
       "      <td>3562200.0</td>\n",
       "    </tr>\n",
       "    <tr>\n",
       "      <th>2</th>\n",
       "      <td>18-03-2020</td>\n",
       "      <td>4.10</td>\n",
       "      <td>4.25</td>\n",
       "      <td>3.50</td>\n",
       "      <td>3.77</td>\n",
       "      <td>3.77</td>\n",
       "      <td>3651700.0</td>\n",
       "    </tr>\n",
       "    <tr>\n",
       "      <th>3</th>\n",
       "      <td>19-03-2020</td>\n",
       "      <td>3.71</td>\n",
       "      <td>4.20</td>\n",
       "      <td>3.55</td>\n",
       "      <td>4.19</td>\n",
       "      <td>4.19</td>\n",
       "      <td>5039500.0</td>\n",
       "    </tr>\n",
       "    <tr>\n",
       "      <th>4</th>\n",
       "      <td>20-03-2020</td>\n",
       "      <td>4.08</td>\n",
       "      <td>4.08</td>\n",
       "      <td>3.65</td>\n",
       "      <td>3.76</td>\n",
       "      <td>3.76</td>\n",
       "      <td>7722200.0</td>\n",
       "    </tr>\n",
       "  </tbody>\n",
       "</table>\n",
       "</div>"
      ],
      "text/plain": [
       "         Date  Open  High   Low  Close  Adj Close     Volume\n",
       "0  16-03-2020  3.93  4.57  3.90   4.37       4.37  4866700.0\n",
       "1  17-03-2020  4.40  4.65  4.11   4.23       4.23  3562200.0\n",
       "2  18-03-2020  4.10  4.25  3.50   3.77       3.77  3651700.0\n",
       "3  19-03-2020  3.71  4.20  3.55   4.19       4.19  5039500.0\n",
       "4  20-03-2020  4.08  4.08  3.65   3.76       3.76  7722200.0"
      ]
     },
     "execution_count": 19,
     "metadata": {},
     "output_type": "execute_result"
    }
   ],
   "source": [
    "df.head()"
   ]
  },
  {
   "cell_type": "code",
   "execution_count": null,
   "metadata": {},
   "outputs": [],
   "source": [
    "# export several dataframes in one csv\n",
    "for i in df:\n",
    "    i.to_csv(r'/Users/davidta/Desktop/Jupyter/bank.csv', index = False)"
   ]
  },
  {
   "cell_type": "code",
   "execution_count": null,
   "metadata": {},
   "outputs": [],
   "source": [
    "# Supprimer les lignes dont la \"column\" est vide\n",
    "df.dropna(subset = [\"column\"], inplace=True)"
   ]
  },
  {
   "cell_type": "code",
   "execution_count": null,
   "metadata": {},
   "outputs": [],
   "source": [
    "# remplacer une valeur dans des lignes par une autre sur la colonne \"From same country\"\n",
    "df.loc[(df['From same country'] == 0),'From same country']='No'\n",
    "\n",
    "#supprimer toutes les lignes dont =\"Unknown\" dans la colonne \"PIN_CODE\"\n",
    "df.drop(df.loc[df['PIN_CODE']==\"Unknown\"].index, inplace=True)\n",
    "\n",
    "# afficher les valeurs uniques de la colonne \"PIN_CODE\"\n",
    "df.PIN_CODE.unique()\n",
    "df['class'].unique()\n",
    "#pareil valeurs uniques mais avec une liste de tout\n",
    "df['numberOfSampleSpreading'].unique().tolist()\n",
    "\n",
    "# afficher le nombre de valeurs 0 et 1 par ex. dans la colonne 'Response'\n",
    "frequency_df = data.groupby('Response').count()\n",
    "display(frequency_df)"
   ]
  },
  {
   "cell_type": "code",
   "execution_count": null,
   "metadata": {},
   "outputs": [],
   "source": [
    "# réduire la taille d'un dataset (ici à 10%)\n",
    "df = df.sample(frac=0.1, replace=True, random_state=1)"
   ]
  },
  {
   "cell_type": "code",
   "execution_count": null,
   "metadata": {},
   "outputs": [],
   "source": [
    "# sampler à n lignes\n",
    "df = df.sample(n=5000)"
   ]
  },
  {
   "cell_type": "code",
   "execution_count": null,
   "metadata": {},
   "outputs": [],
   "source": [
    "import Datahintsmethods as dh\n",
    "# importer et mettre le fichier \"Datahintsmethods.py\" and le même dossier et créer un fichier '__init__.py'\n",
    "# 1er ligne : oversampling(création de bruit contrôlé), 2ème ligne : undersampling\n",
    "newdf = dh.SMOTENC_map_unmap(df, 'stabf', 0.5) # augmente la classe minoritaire jusqu'à atteindre 50%\n",
    "final_df = dh.undersampling(newdf, 'stabf', seed=0, ratio_minority=0.5) # baisse la classe majoritaire jusqu'à ce que le ratio_minority = \n",
    "display(final_df)\n",
    "final_df['stabf'].value_counts()"
   ]
  },
  {
   "cell_type": "code",
   "execution_count": null,
   "metadata": {},
   "outputs": [],
   "source": [
    "# resample un classifier dataset pour garder la proportion entre les classes\n",
    "\n",
    "from imblearn.under_sampling import RandomUnderSampler\n",
    "from sklearn.utils import resample\n",
    "\n",
    "def undersampling(df, target, seed=0, ratio_minority=0.2):\n",
    "  dataframes_list = list()\n",
    "  value_count = df[target].value_counts(ascending=True)\n",
    "  resampling_n = value_count[value_count.index[0]]\n",
    "  value_limit = resampling_n * (1 - ratio_minority) / ratio_minority / (len(value_count) - 1)\n",
    "  name_class = value_count.index[0]\n",
    "  value_count = value_count.drop(value_count.index[0])\n",
    "  for classe in value_count.index:\n",
    "    df_majority_downsampled = resample(df[df[target] == classe],\n",
    "                      replace=False, # sample without replacement\n",
    "                      n_samples=np.int(value_limit), # to match minority class\n",
    "                      random_state=seed)\n",
    "    dataframes_list.append(df_majority_downsampled)\n",
    "  df_downsampled = df[df[target] == name_class]\n",
    "  for dataframe in dataframes_list:\n",
    "    df_downsampled = pd.concat([df_downsampled, dataframe])\n",
    "  df_downsampled.sample(frac=1)\n",
    "  df_downsampled.reset_index(inplace=True)\n",
    "  return df_downsampled\n",
    "\n",
    "new_df=undersampling(df, 'GOAL: Sales', seed=0, ratio_minority=0.1)"
   ]
  },
  {
   "cell_type": "code",
   "execution_count": 15,
   "metadata": {},
   "outputs": [],
   "source": [
    "# Supprimer les valeurs NaN\n",
    "df = df.dropna()"
   ]
  },
  {
   "cell_type": "code",
   "execution_count": 10,
   "metadata": {},
   "outputs": [],
   "source": [
    "# Exporter le df en csv (changer le nom test)\n",
    "df.to_csv(r'/Users/davidta/Desktop/Jupyter/test.csv', index = False)"
   ]
  },
  {
   "cell_type": "code",
   "execution_count": 18,
   "metadata": {},
   "outputs": [],
   "source": [
    "# Exporter le df en excel (changer le nom test)\n",
    "df.to_excel(r'/Users/davidta/Desktop/Jupyter/test.xlsx', index = False)"
   ]
  },
  {
   "cell_type": "code",
   "execution_count": null,
   "metadata": {},
   "outputs": [],
   "source": [
    "# pickle\n",
    "\n",
    "import pickle\n",
    "X = automl.show_models()\n",
    "results = {\"ensemble\" : X}\n",
    "pickle.dump(results, open('churn.pickle', 'wb'))"
   ]
  },
  {
   "cell_type": "code",
   "execution_count": null,
   "metadata": {},
   "outputs": [],
   "source": [
    "# ranger par croissant les 10 premiers qui ont le plus grand \"CLV\"\n",
    "data.sort_values(by='CLV', ascending=False).head(10).reset_index()"
   ]
  },
  {
   "cell_type": "code",
   "execution_count": null,
   "metadata": {},
   "outputs": [],
   "source": [
    "# ranger la column \"length\"\n",
    "df.sort_values(by='length', ascending=True)"
   ]
  },
  {
   "cell_type": "code",
   "execution_count": null,
   "metadata": {},
   "outputs": [],
   "source": [
    "# créer un df \"nonmenace\" qui regroupe tous les \"Non Menace\" de la colonne \"class\"\n",
    "nonmenace = df.loc[df['class'] == \"Non Menace\"]\n",
    "\n",
    "# même chose mais je range by la colonne \"class\"\n",
    "dfthales = df.loc[df['detSnr'] == -1].sort_values(by ='class')"
   ]
  },
  {
   "cell_type": "code",
   "execution_count": null,
   "metadata": {},
   "outputs": [],
   "source": [
    "# normaliser la data pour export dans un csv (la target n'est pas normalisé)\n",
    "from sklearn.preprocessing import MinMaxScaler\n",
    "\n",
    "y = df['CIBLE_Segmentation']\n",
    "X = df.drop(\"CIBLE_Segmentation\", axis=1)\n",
    "\n",
    "scaler = MinMaxScaler()\n",
    "scaled_df = scaler.fit_transform(X)\n",
    "scaled_df = pd.DataFrame(scaled_df,columns=X.columns)\n",
    "newdf = pd.concat([scaled_df, y], axis=1)\n",
    "#display(scaled_df)\n",
    "newdf.to_csv(r'doubleprecisionNORMALIZATION.csv', index = False)"
   ]
  },
  {
   "cell_type": "code",
   "execution_count": null,
   "metadata": {},
   "outputs": [],
   "source": [
    "#créer une column Acceleration qui est = la speed*100\n",
    "df['Acceleration'] = df['speed']*100\n",
    "#rajouter une column avec une condition :\n",
    "#créer une nouvelle column en prenant une valeur d'une autre\n",
    "df['Acceleration2'] = df['Acceleration']\n",
    "#ou créer une column vide \"\" ou ici avec une valeur fixe 0\n",
    "df[\"Acceleration2\"] = 0\n",
    "\n",
    "#remplacer les valeurs de la column créée avec une condition\n",
    "df.loc[df['Acceleration2']>100,'Acceleration2'] = 999"
   ]
  },
  {
   "cell_type": "code",
   "execution_count": null,
   "metadata": {},
   "outputs": [],
   "source": [
    "# upper ou lower des columns\n",
    "coltoupper = ['Day','Station', 'Code', 'Bound', 'Line']\n",
    "df[coltoupper] = df[coltoupper].apply(lambda x : x.str.upper())"
   ]
  },
  {
   "cell_type": "code",
   "execution_count": null,
   "metadata": {},
   "outputs": [],
   "source": [
    "from sklearn.preprocessing import LabelEncoder\n",
    "\n",
    "# creating instance of labelencoder\n",
    "labelencoder = LabelEncoder()\n",
    "# Assigning numerical values and storing in another column\n",
    "labelstoencode = ['Day','Station', 'Code', 'Bound', 'Line']\n",
    "\n",
    "for col in df[labelstoencode]:\n",
    "    df[col+'_']= labelencoder.fit_transform(df[col])"
   ]
  },
  {
   "cell_type": "code",
   "execution_count": null,
   "metadata": {},
   "outputs": [],
   "source": [
    "df['_Code_'].value_counts()\n",
    "valuestokeep = 93, 196, 86, 167\n",
    "df = df[df['_Code_'].isin(valuestokeep)]"
   ]
  }
 ],
 "metadata": {
  "kernelspec": {
   "display_name": "Python 3",
   "language": "python",
   "name": "python3"
  },
  "language_info": {
   "codemirror_mode": {
    "name": "ipython",
    "version": 3
   },
   "file_extension": ".py",
   "mimetype": "text/x-python",
   "name": "python",
   "nbconvert_exporter": "python",
   "pygments_lexer": "ipython3",
   "version": "3.8.8"
  }
 },
 "nbformat": 4,
 "nbformat_minor": 4
}
