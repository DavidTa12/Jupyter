{
 "cells": [
  {
   "cell_type": "markdown",
   "metadata": {},
   "source": [
    "# Print All Scalling Techniques"
   ]
  },
  {
   "cell_type": "code",
   "execution_count": 9,
   "metadata": {},
   "outputs": [],
   "source": [
    "from sklearn.model_selection import train_test_split\n",
    "from sklearn.preprocessing import MinMaxScaler\n",
    "from sklearn.preprocessing import StandardScaler\n",
    "from sklearn.preprocessing import RobustScaler\n",
    "from sklearn.preprocessing import MaxAbsScaler\n",
    "from sklearn.metrics import matthews_corrcoef\n",
    "from sklearn.metrics import confusion_matrix\n",
    "from sklearn.metrics import accuracy_score\n",
    "from sklearn.metrics import recall_score\n",
    "from sklearn.metrics import classification_report\n",
    "from sklearn.metrics import roc_auc_score\n",
    "from sklearn.metrics import cohen_kappa_score\n",
    "from sklearn.metrics import plot_confusion_matrix\n",
    "import matplotlib.pyplot as plt  \n",
    "from sklearn import metrics\n",
    "import autosklearn.classification\n",
    "\n",
    "import pandas as pd\n",
    "import numpy as np\n",
    "import warnings\n",
    "warnings.filterwarnings('ignore')\n",
    "from sklearn.linear_model import LogisticRegression"
   ]
  },
  {
   "cell_type": "code",
   "execution_count": 2,
   "metadata": {},
   "outputs": [],
   "source": [
    "df = pd.read_csv(\"multiclass.csv\", low_memory=True, sep=\",\")"
   ]
  },
  {
   "cell_type": "code",
   "execution_count": 6,
   "metadata": {},
   "outputs": [
    {
     "name": "stdout",
     "output_type": "stream",
     "text": [
      "For Scaler = MinMaxScaler\n",
      "Accuracy: 0.8949843260188087\n",
      "------------------------------------------------------\n",
      "              precision    recall  f1-score   support\n",
      "\n",
      "         1.0       0.92      0.97      0.95       497\n",
      "         2.0       0.71      0.56      0.62        88\n",
      "         3.0       0.88      0.72      0.79        53\n",
      "\n",
      "    accuracy                           0.89       638\n",
      "   macro avg       0.84      0.75      0.79       638\n",
      "weighted avg       0.89      0.89      0.89       638\n",
      "\n",
      "------------------------------------------------------\n",
      "MCC: 0.6949692595512681\n",
      "------------------------------------------------------\n",
      "Kappa: 0.6886013797524605\n",
      "------------------------------------------------------\n",
      "For Scaler = StandardScaler\n",
      "Accuracy: 0.9075235109717869\n",
      "------------------------------------------------------\n",
      "              precision    recall  f1-score   support\n",
      "\n",
      "         1.0       0.94      0.96      0.95       497\n",
      "         2.0       0.72      0.68      0.70        88\n",
      "         3.0       0.84      0.77      0.80        53\n",
      "\n",
      "    accuracy                           0.91       638\n",
      "   macro avg       0.83      0.81      0.82       638\n",
      "weighted avg       0.91      0.91      0.91       638\n",
      "\n",
      "------------------------------------------------------\n",
      "MCC: 0.7421525690194124\n",
      "------------------------------------------------------\n",
      "Kappa: 0.7415780476586045\n",
      "------------------------------------------------------\n",
      "For Scaler = RobustScaler\n",
      "Accuracy: 0.9090909090909091\n",
      "------------------------------------------------------\n",
      "              precision    recall  f1-score   support\n",
      "\n",
      "         1.0       0.94      0.96      0.95       497\n",
      "         2.0       0.73      0.69      0.71        88\n",
      "         3.0       0.87      0.77      0.82        53\n",
      "\n",
      "    accuracy                           0.91       638\n",
      "   macro avg       0.85      0.81      0.83       638\n",
      "weighted avg       0.91      0.91      0.91       638\n",
      "\n",
      "------------------------------------------------------\n",
      "MCC: 0.7458494162402912\n",
      "------------------------------------------------------\n",
      "Kappa: 0.7451199184471904\n",
      "------------------------------------------------------\n",
      "For Scaler = MaxAbsScaler\n",
      "Accuracy: 0.9012539184952978\n",
      "------------------------------------------------------\n",
      "              precision    recall  f1-score   support\n",
      "\n",
      "         1.0       0.93      0.97      0.95       497\n",
      "         2.0       0.73      0.60      0.66        88\n",
      "         3.0       0.88      0.72      0.79        53\n",
      "\n",
      "    accuracy                           0.90       638\n",
      "   macro avg       0.85      0.76      0.80       638\n",
      "weighted avg       0.90      0.90      0.90       638\n",
      "\n",
      "------------------------------------------------------\n",
      "MCC: 0.7153620040580573\n",
      "------------------------------------------------------\n",
      "Kappa: 0.7106409324224121\n",
      "------------------------------------------------------\n"
     ]
    },
    {
     "data": {
      "image/png": "[encoded data removed]",
      "text/plain": [
       "<Figure size 432x288 with 2 Axes>"
      ]
     },
     "metadata": {
      "needs_background": "light"
     },
     "output_type": "display_data"
    },
    {
     "data": {
      "image/png": "[encoded data removed]",
      "text/plain": [
       "<Figure size 432x288 with 2 Axes>"
      ]
     },
     "metadata": {
      "needs_background": "light"
     },
     "output_type": "display_data"
    },
    {
     "data": {
      "image/png": "[encoded data removed]",
      "text/plain": [
       "<Figure size 432x288 with 2 Axes>"
      ]
     },
     "metadata": {
      "needs_background": "light"
     },
     "output_type": "display_data"
    },
    {
     "data": {
      "image/png": "[encoded data removed]",
      "text/plain": [
       "<Figure size 432x288 with 2 Axes>"
      ]
     },
     "metadata": {
      "needs_background": "light"
     },
     "output_type": "display_data"
    }
   ],
   "source": [
    "y = df['Your_Target']\n",
    "X = df.drop(\"Your_Target\", axis=1)\n",
    "\n",
    "arr = (MinMaxScaler, StandardScaler, RobustScaler, MaxAbsScaler)\n",
    "\n",
    "# scaler = RobustScaler()\n",
    "\n",
    "\n",
    "for scaler in arr :\n",
    "    X = scaler().fit_transform(X)\n",
    "    X_train, X_test, y_train, y_test = train_test_split(X, y, test_size=0.30, stratify=y, random_state=1)\n",
    "    model = LogisticRegression()\n",
    "    model.fit(X_train, y_train)\n",
    "    y_pred = model.predict(X_test)\n",
    "    print(\"For Scaler = \" + str(scaler.__name__))\n",
    "    print(\"Accuracy:\",accuracy_score(y_test, y_pred))\n",
    "    print(\"------------------------------------------------------\")\n",
    "    print(classification_report(y_test, y_pred))\n",
    "    print(\"------------------------------------------------------\")\n",
    "    print(\"MCC:\",matthews_corrcoef(y_test, y_pred))\n",
    "    print(\"------------------------------------------------------\")\n",
    "    print(\"Kappa:\",cohen_kappa_score(y_test, y_pred))\n",
    "    print(\"------------------------------------------------------\")\n",
    "    plot_confusion_matrix(model, X_test, y_test)"
   ]
  },
  {
   "cell_type": "markdown",
   "metadata": {},
   "source": [
    "# Auto Best Scalling Technique"
   ]
  },
  {
   "cell_type": "code",
   "execution_count": 8,
   "metadata": {},
   "outputs": [
    {
     "name": "stdout",
     "output_type": "stream",
     "text": [
      "Best Scaler = RobustScaler\n",
      "------------------------------------------------------\n",
      "Accuracy: 0.9090909090909091\n",
      "------------------------------------------------------\n",
      "              precision    recall  f1-score   support\n",
      "\n",
      "         1.0       0.94      0.96      0.95       497\n",
      "         2.0       0.73      0.69      0.71        88\n",
      "         3.0       0.87      0.77      0.82        53\n",
      "\n",
      "    accuracy                           0.91       638\n",
      "   macro avg       0.85      0.81      0.83       638\n",
      "weighted avg       0.91      0.91      0.91       638\n",
      "\n",
      "------------------------------------------------------\n",
      "MCC: 0.7458494162402912\n",
      "------------------------------------------------------\n",
      "Kappa: 0.7451199184471904\n",
      "------------------------------------------------------\n"
     ]
    },
    {
     "data": {
      "text/plain": [
       "<sklearn.metrics._plot.confusion_matrix.ConfusionMatrixDisplay at 0x7fae3551c7c0>"
      ]
     },
     "execution_count": 8,
     "metadata": {},
     "output_type": "execute_result"
    },
    {
     "data": {
      "image/png": "[encoded data removed]",
      "text/plain": [
       "<Figure size 432x288 with 2 Axes>"
      ]
     },
     "metadata": {
      "needs_background": "light"
     },
     "output_type": "display_data"
    }
   ],
   "source": [
    "y = df['Your_Target']\n",
    "X = df.drop(\"Your_Target\", axis=1)\n",
    "\n",
    "arr = (MinMaxScaler, StandardScaler, RobustScaler, MaxAbsScaler)\n",
    "\n",
    "best_accuracy = 0\n",
    "best_classification = None\n",
    "best_mcc = None\n",
    "best_kappa = None\n",
    "best_function_name = ''\n",
    "best_model = None\n",
    "best_X_test = None\n",
    "best_Y_test = None\n",
    "\n",
    "for scaler in arr :\n",
    "    X = scaler().fit_transform(X)\n",
    "    X_train, X_test, y_train, y_test = train_test_split(X, y, test_size=0.30, stratify=y, random_state=1)\n",
    "    model = LogisticRegression()\n",
    "    model.fit(X_train, y_train)\n",
    "    y_pred = model.predict(X_test)\n",
    "    \n",
    "    accuracy = accuracy_score(y_test, y_pred)\n",
    "    classification = classification_report(y_test, y_pred)\n",
    "    mcc = matthews_corrcoef(y_test, y_pred)\n",
    "    kappa = cohen_kappa_score(y_test, y_pred)\n",
    "\n",
    "    if best_accuracy < accuracy:\n",
    "        best_accuracy = accuracy\n",
    "        best_classification = classification\n",
    "        best_mcc = mcc\n",
    "        best_kappa = kappa\n",
    "        best_function_name = str(scaler.__name__)\n",
    "        best_model = model\n",
    "        best_X_test = X_test\n",
    "        best_Y_test = y_test\n",
    "        \n",
    "print(\"Best Scaler = \" + best_function_name)\n",
    "print(\"------------------------------------------------------\")\n",
    "print(\"Accuracy:\", best_accuracy)\n",
    "print(\"------------------------------------------------------\")\n",
    "print(best_classification)\n",
    "print(\"------------------------------------------------------\")\n",
    "print(\"MCC:\", best_mcc)\n",
    "print(\"------------------------------------------------------\")\n",
    "print(\"Kappa:\", best_kappa)\n",
    "print(\"------------------------------------------------------\")\n",
    "plot_confusion_matrix(best_model, best_X_test, best_Y_test)"
   ]
  }
 ],
 "metadata": {
  "kernelspec": {
   "display_name": "Python 3",
   "language": "python",
   "name": "python3"
  },
  "language_info": {
   "codemirror_mode": {
    "name": "ipython",
    "version": 3
   },
   "file_extension": ".py",
   "mimetype": "text/x-python",
   "name": "python",
   "nbconvert_exporter": "python",
   "pygments_lexer": "ipython3",
   "version": "3.8.5"
  }
 },
 "nbformat": 4,
 "nbformat_minor": 4
}
